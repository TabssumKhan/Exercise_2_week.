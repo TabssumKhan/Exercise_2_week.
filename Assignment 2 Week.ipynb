{
 "cells": [
  {
   "cell_type": "markdown",
   "id": "dd57d0cb",
   "metadata": {},
   "source": [
    "### STRING EXERCISES"
   ]
  },
  {
   "cell_type": "markdown",
   "id": "4ca735ca",
   "metadata": {},
   "source": [
    "1. Write a Python program to count the number of characters in a string."
   ]
  },
  {
   "cell_type": "code",
   "execution_count": 1,
   "id": "f8972580",
   "metadata": {},
   "outputs": [],
   "source": [
    "string = \"I am playing\""
   ]
  },
  {
   "cell_type": "code",
   "execution_count": 2,
   "id": "653ce3ff",
   "metadata": {},
   "outputs": [
    {
     "data": {
      "text/plain": [
       "12"
      ]
     },
     "execution_count": 2,
     "metadata": {},
     "output_type": "execute_result"
    }
   ],
   "source": [
    "len(string)"
   ]
  },
  {
   "cell_type": "markdown",
   "id": "d6ec400b",
   "metadata": {},
   "source": [
    "2.Write a Python program to reverse a string."
   ]
  },
  {
   "cell_type": "code",
   "execution_count": 3,
   "id": "a633255a",
   "metadata": {},
   "outputs": [],
   "source": [
    "string = \"Hello World\""
   ]
  },
  {
   "cell_type": "code",
   "execution_count": 4,
   "id": "a4084b2e",
   "metadata": {},
   "outputs": [
    {
     "data": {
      "text/plain": [
       "'dlroW olleH'"
      ]
     },
     "execution_count": 4,
     "metadata": {},
     "output_type": "execute_result"
    }
   ],
   "source": [
    "string[::-1]"
   ]
  },
  {
   "cell_type": "markdown",
   "id": "12eab88a",
   "metadata": {},
   "source": [
    "3. Write a Python program to check if a string is a palindrome."
   ]
  },
  {
   "cell_type": "code",
   "execution_count": 5,
   "id": "d00fde3e",
   "metadata": {},
   "outputs": [
    {
     "name": "stdout",
     "output_type": "stream",
     "text": [
      "'madam'word is a palindrome.\n"
     ]
    }
   ],
   "source": [
    "string = \"madam\"\n",
    "reversed_string = string[::-1]\n",
    "\n",
    "if string == reversed_string:\n",
    "    print(f\"'{string}'word is a palindrome.\")\n",
    "else:\n",
    "    print(f\"'{string}'word is not a palindrome.\")"
   ]
  },
  {
   "cell_type": "markdown",
   "id": "25219279",
   "metadata": {},
   "source": [
    "4. Write a Python program to remove all the vowels from a string."
   ]
  },
  {
   "cell_type": "code",
   "execution_count": 6,
   "id": "09714fdc",
   "metadata": {},
   "outputs": [
    {
     "name": "stdout",
     "output_type": "stream",
     "text": [
      "strng\n"
     ]
    }
   ],
   "source": [
    "str = \"string\"\n",
    "vowels = \"a,e,i,o,u,A,E,I,O,U\"\n",
    "\n",
    "for i in str:\n",
    "    if i in vowels:\n",
    "        str = str.replace(i,\"\")\n",
    "\n",
    "print(str)"
   ]
  },
  {
   "cell_type": "markdown",
   "id": "622e44e7",
   "metadata": {},
   "source": [
    "5. Write a Python program to find the first non-repeating character in a string."
   ]
  },
  {
   "cell_type": "code",
   "execution_count": 7,
   "id": "207d015e",
   "metadata": {},
   "outputs": [
    {
     "name": "stdout",
     "output_type": "stream",
     "text": [
      "first non-repeating char in the string is: d\n"
     ]
    }
   ],
   "source": [
    "def found(s):\n",
    "    for i in s:\n",
    "        if s.count(i) == 1:\n",
    "            return i\n",
    "    return -1\n",
    "\n",
    "string = \"found me if you can\"\n",
    "result = found(string)\n",
    "if result:\n",
    "    print(f\"first non-repeating char in the string is: {result}\")\n",
    "else:\n",
    "    print(\"no found any\")"
   ]
  },
  {
   "cell_type": "markdown",
   "id": "a3e7dfdf",
   "metadata": {},
   "source": [
    "6. Write a Python program to capitalize the first letter of each word in a string."
   ]
  },
  {
   "cell_type": "code",
   "execution_count": 8,
   "id": "7049dd5a",
   "metadata": {},
   "outputs": [
    {
     "name": "stdout",
     "output_type": "stream",
     "text": [
      "Coding Things\n"
     ]
    }
   ],
   "source": [
    "string = \"coding things\"\n",
    "print(string.title())"
   ]
  },
  {
   "cell_type": "markdown",
   "id": "03c4a738",
   "metadata": {},
   "source": [
    "7. Write a Python program to check if a string is an anagram of another string."
   ]
  },
  {
   "cell_type": "code",
   "execution_count": 9,
   "id": "3aa73eb4",
   "metadata": {},
   "outputs": [
    {
     "name": "stdout",
     "output_type": "stream",
     "text": [
      "enter first string :fgbg\n",
      "enter second string :hthbthrn\n",
      "strings are anagram\n"
     ]
    }
   ],
   "source": [
    "a = input(\"enter first string :\")\n",
    "b = input(\"enter second string :\")\n",
    "\n",
    "if(sorted(a) == sorted(b)):\n",
    "    print(\"strings are anagram\")\n",
    "else:\n",
    "    print(\"strings are anagram\")"
   ]
  },
  {
   "cell_type": "markdown",
   "id": "52bd22cd",
   "metadata": {},
   "source": [
    "8. Write a Python program to find the most frequent character in a string."
   ]
  },
  {
   "cell_type": "code",
   "execution_count": 12,
   "id": "cb4b8689",
   "metadata": {},
   "outputs": [
    {
     "name": "stdout",
     "output_type": "stream",
     "text": [
      "The most frequent character is 'd' with a count of 4.\n"
     ]
    }
   ],
   "source": [
    "from collections import Counter\n",
    "\n",
    "string = \"aabbcccdddd\"\n",
    "\n",
    "char_count = Counter(string)\n",
    "\n",
    "most_common = char_count.most_common(1)\n",
    "\n",
    "if most_common:\n",
    "    char, count = most_common[0]\n",
    "    print(f\"The most frequent character is '{char}' with a count of {count}.\")\n",
    "else:\n",
    "    print(\"The input string is empty.\")"
   ]
  },
  {
   "cell_type": "code",
   "execution_count": 13,
   "id": "9d422ea6",
   "metadata": {},
   "outputs": [
    {
     "name": "stdout",
     "output_type": "stream",
     "text": [
      "[('d', 4)]\n"
     ]
    }
   ],
   "source": [
    "from collections import Counter\n",
    "string = \"aabbccdddd\"\n",
    "\n",
    "char_count = Counter(string)\n",
    "\n",
    "most_common = char_count.most_common(1)\n",
    "\n",
    "print(most_common)"
   ]
  },
  {
   "cell_type": "markdown",
   "id": "94a3ba9a",
   "metadata": {},
   "source": [
    "9. Write a Python program to check if a string is a valid email address."
   ]
  },
  {
   "cell_type": "code",
   "execution_count": 14,
   "id": "ec068352",
   "metadata": {},
   "outputs": [
    {
     "name": "stdout",
     "output_type": "stream",
     "text": [
      "khantabssum851@gmail.com is valid email_id\n"
     ]
    }
   ],
   "source": [
    "import re\n",
    "\n",
    "email = \"khantabssum851@gmail.com\"\n",
    "\n",
    "email_pattern = r'^[\\w\\.-]+@[\\w\\.-]+\\.\\w+'\n",
    "\n",
    "if re.match(email_pattern, email):\n",
    "    print(f\"{email} is valid email_id\")\n",
    "else:\n",
    "    print(f\"{email} is invalid email_id\")\n"
   ]
  },
  {
   "cell_type": "markdown",
   "id": "0dea6041",
   "metadata": {},
   "source": [
    "10. Write a Python program to find the length of the longest substring without repeating characters."
   ]
  },
  {
   "cell_type": "code",
   "execution_count": 15,
   "id": "b75c5953",
   "metadata": {
    "scrolled": true
   },
   "outputs": [
    {
     "name": "stdout",
     "output_type": "stream",
     "text": [
      "7\n"
     ]
    }
   ],
   "source": [
    "def longest_substring_length(s):\n",
    "    if not s:\n",
    "        return 0\n",
    "\n",
    "    char_index = {}\n",
    "    max_length = 0\n",
    "    start = 0 \n",
    "\n",
    "    for end in range(len(s)):\n",
    "        if s[end] in char_index and char_index[s[end]] >= start:\n",
    "            start = char_index[s[end]] + 1\n",
    "\n",
    "        char_index[s[end]] = end\n",
    "        max_length = max(max_length, end - start + 1)\n",
    "\n",
    "    print(max_length)\n",
    "\n",
    "input_string = \"sdfbehifgehfbkjfv\"\n",
    "\n",
    "result = longest_substring_length(input_string)\n",
    "result\n",
    "\n",
    "# need more understanding about this example"
   ]
  },
  {
   "cell_type": "markdown",
   "id": "10655b44",
   "metadata": {},
   "source": [
    "### LIST EXERCISES"
   ]
  },
  {
   "cell_type": "markdown",
   "id": "30c6d2e7",
   "metadata": {},
   "source": [
    "1. Write a Python program to find the sum of all elements in a list."
   ]
  },
  {
   "cell_type": "code",
   "execution_count": 32,
   "id": "b2b30a12",
   "metadata": {
    "scrolled": true
   },
   "outputs": [
    {
     "name": "stdout",
     "output_type": "stream",
     "text": [
      "1\n",
      "3\n",
      "10\n",
      "14\n",
      "19\n",
      "25\n",
      "30\n",
      "38\n",
      "47\n",
      "58\n"
     ]
    }
   ],
   "source": [
    "numbers = [1, 2, 7, 4, 5, 6, 5, 8, 9, 11]\n",
    "\n",
    "sum = 0\n",
    "for i in numbers:\n",
    "    sum = sum+i\n",
    "    print(sum)"
   ]
  },
  {
   "cell_type": "markdown",
   "id": "8b84c608",
   "metadata": {},
   "source": [
    "2. Write a Python program to find the maximum and minimum elements in a list."
   ]
  },
  {
   "cell_type": "code",
   "execution_count": 10,
   "id": "b5eaa998",
   "metadata": {},
   "outputs": [
    {
     "name": "stdout",
     "output_type": "stream",
     "text": [
      "Maximum value: 89\n",
      "Minimum value: 3\n"
     ]
    }
   ],
   "source": [
    "list = [12, 45, 6, 23, 67, 3, 89, 54]\n",
    "\n",
    "max_value = max(list)\n",
    "min_value = min(list)\n",
    "\n",
    "print(\"Maximum value:\", max_value)\n",
    "print(\"Minimum value:\", min_value)\n"
   ]
  },
  {
   "cell_type": "markdown",
   "id": "cff23ee6",
   "metadata": {},
   "source": [
    "3. Write a Python program to remove duplicates from a list.\n"
   ]
  },
  {
   "cell_type": "code",
   "execution_count": 37,
   "id": "e38a94ff",
   "metadata": {},
   "outputs": [
    {
     "name": "stdout",
     "output_type": "stream",
     "text": [
      "{1, 2, 3, 4, 5}\n"
     ]
    }
   ],
   "source": [
    "my_list = [1, 2, 2, 3, 4, 4, 5]\n",
    "\n",
    "my_list = (set(my_list))\n",
    "\n",
    "print(my_list)"
   ]
  },
  {
   "cell_type": "markdown",
   "id": "fd7ea3c4",
   "metadata": {},
   "source": [
    "4. Write a Python program to check if a list is sorted in ascending order."
   ]
  },
  {
   "cell_type": "code",
   "execution_count": 44,
   "id": "8751c965",
   "metadata": {},
   "outputs": [
    {
     "name": "stdout",
     "output_type": "stream",
     "text": [
      "list is not in ascending order\n"
     ]
    }
   ],
   "source": [
    "list = [1,8,3,4,5,6]\n",
    "tlist = list[:]\n",
    "list.sort()\n",
    "if tlist == list:\n",
    "    print(\"list is in ascending order\")\n",
    "else:\n",
    "    print(\"list is not in ascending order\")"
   ]
  },
  {
   "cell_type": "markdown",
   "id": "48f47897",
   "metadata": {},
   "source": [
    "5. Write a Python program to find the second largest element in a list."
   ]
  },
  {
   "cell_type": "code",
   "execution_count": 1,
   "id": "c60e5a56",
   "metadata": {},
   "outputs": [
    {
     "name": "stdout",
     "output_type": "stream",
     "text": [
      "second largest element is :  23\n"
     ]
    }
   ],
   "source": [
    "list = [10,45,23,78,45,77]\n",
    "list.sort()\n",
    "element = list[1]\n",
    "\n",
    "print(\"second largest element is : \",element)"
   ]
  },
  {
   "cell_type": "markdown",
   "id": "ec15ac58",
   "metadata": {},
   "source": [
    "6. Write a Python program to sort a list of strings in alphabetical order."
   ]
  },
  {
   "cell_type": "code",
   "execution_count": 3,
   "id": "64feae86",
   "metadata": {},
   "outputs": [
    {
     "name": "stdout",
     "output_type": "stream",
     "text": [
      "['apple', 'banana', 'cherry', 'date', 'grape']\n"
     ]
    }
   ],
   "source": [
    "string = [\"banana\", \"apple\", \"cherry\", \"date\", \"grape\"]\n",
    "string.sort()\n",
    "print(string)"
   ]
  },
  {
   "cell_type": "markdown",
   "id": "2eea7f38",
   "metadata": {},
   "source": [
    "7. Write a Python program to find the common elements between two lists."
   ]
  },
  {
   "cell_type": "code",
   "execution_count": 4,
   "id": "317b5e10",
   "metadata": {},
   "outputs": [
    {
     "name": "stdout",
     "output_type": "stream",
     "text": [
      "{'a', 'i'}\n"
     ]
    }
   ],
   "source": [
    "a = \"America\"\n",
    "b = \"India\"\n",
    "\n",
    "common = set(a) & set(b)\n",
    "print(common)"
   ]
  },
  {
   "cell_type": "markdown",
   "id": "39dc1384",
   "metadata": {},
   "source": [
    "8. Write a Python program to remove the nth occurrence of an element from a list.\n"
   ]
  },
  {
   "cell_type": "code",
   "execution_count": 10,
   "id": "56f96a53",
   "metadata": {},
   "outputs": [
    {
     "name": "stdout",
     "output_type": "stream",
     "text": [
      "['geeks', 'for']\n"
     ]
    }
   ],
   "source": [
    "list = [\"geeks\", \"for\", \"geeks\"]\n",
    "word = \"geeks\"\n",
    "n = 2\n",
    "\n",
    "count = 0\n",
    "\n",
    "for i in range(0,len(list)):\n",
    "    if(list[i] == word):\n",
    "        count = count+1\n",
    "        if (count == n):\n",
    "            del list[i]\n",
    "\n",
    "print(list)"
   ]
  },
  {
   "cell_type": "markdown",
   "id": "7c582372",
   "metadata": {},
   "source": [
    "9. Write a Python program to find the difference between two lists."
   ]
  },
  {
   "cell_type": "code",
   "execution_count": 20,
   "id": "237f4fa0",
   "metadata": {
    "scrolled": true
   },
   "outputs": [
    {
     "name": "stdout",
     "output_type": "stream",
     "text": [
      "{1, 3, 6, 8, 9}\n"
     ]
    }
   ],
   "source": [
    "list1 = [1,2,3,4]\n",
    "list2 = [2,4,6,8,9]\n",
    "\n",
    "list3 = set(list1).symmetric_difference(set(list2))\n",
    "\n",
    "print(list3)"
   ]
  },
  {
   "cell_type": "markdown",
   "id": "41d0a781",
   "metadata": {},
   "source": [
    "10. Write a Python program to remove the elements of a list that are divisible by 3."
   ]
  },
  {
   "cell_type": "code",
   "execution_count": 2,
   "id": "742fc21b",
   "metadata": {},
   "outputs": [
    {
     "name": "stdout",
     "output_type": "stream",
     "text": [
      "Original list: [1, 2, 3, 4, 5, 6, 7, 8, 9]\n",
      "List after removing elements divisible by 3: [1, 2, 4, 5, 7, 8]\n"
     ]
    }
   ],
   "source": [
    "def remove_elements_divisible_by_3(input_list):\n",
    "    result_list = list(filter(lambda x: x % 3 != 0, input_list))\n",
    "    return result_list\n",
    "\n",
    "my_list = [1, 2, 3, 4, 5, 6, 7, 8, 9]\n",
    "result = remove_elements_divisible_by_3(my_list)\n",
    "\n",
    "print(\"Original list:\", my_list)\n",
    "print(\"List after removing elements divisible by 3:\", result)\n"
   ]
  },
  {
   "cell_type": "markdown",
   "id": "2c3420eb",
   "metadata": {},
   "source": [
    "### TUPLE EXCERCISES"
   ]
  },
  {
   "cell_type": "markdown",
   "id": "faaf352e",
   "metadata": {},
   "source": [
    "1. Write a Python program to find the length of a tuple."
   ]
  },
  {
   "cell_type": "code",
   "execution_count": 3,
   "id": "88c42944",
   "metadata": {},
   "outputs": [
    {
     "name": "stdout",
     "output_type": "stream",
     "text": [
      "7\n"
     ]
    }
   ],
   "source": [
    "tuple = (1,2,3,4,5,6,7)\n",
    "print(len(tuple))"
   ]
  },
  {
   "cell_type": "markdown",
   "id": "85a23c90",
   "metadata": {},
   "source": [
    "2. Write a Python program to concatenate two tuples.\n"
   ]
  },
  {
   "cell_type": "code",
   "execution_count": 9,
   "id": "fc2a5903",
   "metadata": {},
   "outputs": [
    {
     "name": "stdout",
     "output_type": "stream",
     "text": [
      "(1, 2, 3, 4, 5, 'Amit', 'Ramesh')\n"
     ]
    }
   ],
   "source": [
    "t1 = (1,2,3,4,5)\n",
    "t2 = ('Amit','Ramesh')\n",
    "\n",
    "print(t1+t2)"
   ]
  },
  {
   "cell_type": "markdown",
   "id": "0ac9bf87",
   "metadata": {},
   "source": [
    "3. Write a Python program to convert a tuple to a list.\n"
   ]
  },
  {
   "cell_type": "code",
   "execution_count": 1,
   "id": "77f30606",
   "metadata": {},
   "outputs": [
    {
     "name": "stdout",
     "output_type": "stream",
     "text": [
      "['Ram', 'Shyam', 'Teena', 'Rahul']\n"
     ]
    }
   ],
   "source": [
    "tuple = ('Ram','Shyam','Teena','Rahul')\n",
    "convert_into_list = list(tuple)\n",
    "print(convert_into_list)"
   ]
  },
  {
   "cell_type": "markdown",
   "id": "3a3e4c58",
   "metadata": {},
   "source": [
    "4. Write a Python program to find the index of an element in a tuple"
   ]
  },
  {
   "cell_type": "code",
   "execution_count": 2,
   "id": "0509d4bf",
   "metadata": {},
   "outputs": [
    {
     "name": "stdout",
     "output_type": "stream",
     "text": [
      "1\n"
     ]
    }
   ],
   "source": [
    "cars = ('Audi','BMW','Tesla','Ferrari')\n",
    "print(cars.index('BMW'))"
   ]
  },
  {
   "cell_type": "markdown",
   "id": "5ee215ef",
   "metadata": {},
   "source": [
    "5. Write a Python program to check if an element exists in a tuple.\n"
   ]
  },
  {
   "cell_type": "code",
   "execution_count": 6,
   "id": "44b0ade6",
   "metadata": {},
   "outputs": [
    {
     "name": "stdout",
     "output_type": "stream",
     "text": [
      "enter element to check existance in list : f\n",
      "f not exist in the list\n"
     ]
    }
   ],
   "source": [
    "mylist = ['a','b','c','d']\n",
    "\n",
    "element = input(\"enter element to check existance in list : \")\n",
    "\n",
    "if element in mylist:\n",
    "    print(element,\"exist in the list\")\n",
    "else:\n",
    "    print(element,\"not exist in the list\")"
   ]
  },
  {
   "cell_type": "markdown",
   "id": "5ee0921e",
   "metadata": {},
   "source": [
    "6. Write a Python program to count the number of occurrences of an element in a tuple.\n"
   ]
  },
  {
   "cell_type": "code",
   "execution_count": 4,
   "id": "3526f87f",
   "metadata": {},
   "outputs": [
    {
     "data": {
      "text/plain": [
       "4"
      ]
     },
     "execution_count": 4,
     "metadata": {},
     "output_type": "execute_result"
    }
   ],
   "source": [
    "tuple = (10,45,82,82,10,10,10)\n",
    "tuple.count(10)"
   ]
  },
  {
   "cell_type": "markdown",
   "id": "6202dc82",
   "metadata": {},
   "source": [
    "7. Write a Python program to find the maximum and minimum elements in a tuple.\n"
   ]
  },
  {
   "cell_type": "code",
   "execution_count": 5,
   "id": "2a9d7dcc",
   "metadata": {},
   "outputs": [
    {
     "name": "stdout",
     "output_type": "stream",
     "text": [
      "(23, 87, 54, 90, 0, 100, 21)\n",
      "0\n",
      "100\n"
     ]
    }
   ],
   "source": [
    "tuple = (23,87,54,90,0,100,21)\n",
    "print(tuple)\n",
    "\n",
    "print(min(tuple))\n",
    "print(max(tuple))"
   ]
  },
  {
   "cell_type": "markdown",
   "id": "b1bd024e",
   "metadata": {},
   "source": [
    "8. Write a Python program to reverse a tuple.\n"
   ]
  },
  {
   "cell_type": "code",
   "execution_count": 7,
   "id": "a6382ba2",
   "metadata": {},
   "outputs": [
    {
     "data": {
      "text/plain": [
       "(823, 876, 123, 763, 352, 900)"
      ]
     },
     "execution_count": 7,
     "metadata": {},
     "output_type": "execute_result"
    }
   ],
   "source": [
    "tuple = (900,352,763,123,876,823)\n",
    "\n",
    "tuple[::-1]"
   ]
  },
  {
   "cell_type": "markdown",
   "id": "16e6ff23",
   "metadata": {},
   "source": [
    "9. Write a Python program to check if all elements in a tuple are the same.\n"
   ]
  },
  {
   "cell_type": "code",
   "execution_count": 4,
   "id": "5e3063cd",
   "metadata": {},
   "outputs": [
    {
     "name": "stdout",
     "output_type": "stream",
     "text": [
      "all elements in the tuple are not same.\n"
     ]
    }
   ],
   "source": [
    "my_tuple = (2, 0, 2, 2)\n",
    "\n",
    "all_elements_same = all(x == my_tuple[0] for x in my_tuple)\n",
    "\n",
    "if all_elements_same:\n",
    "    print(\"All elements in the tuple are the same.\")\n",
    "else:\n",
    "    print(\"all elements in the tuple are not same.\")"
   ]
  },
  {
   "cell_type": "markdown",
   "id": "59f3faa2",
   "metadata": {},
   "source": [
    "10. Write a Python program to create a new tuple with the elements from two existing tuples.\n"
   ]
  },
  {
   "cell_type": "code",
   "execution_count": 7,
   "id": "06d27d00",
   "metadata": {},
   "outputs": [
    {
     "name": "stdout",
     "output_type": "stream",
     "text": [
      "New Tuple (Concatenated): ('Ram', 'Shyam', 'Amar', 'Anthony', 4, 5, 6)\n"
     ]
    }
   ],
   "source": [
    "tuple1 = ('Ram','Shyam','Amar','Anthony')\n",
    "tuple2 = (4,5,6)\n",
    "\n",
    "new_tuple = tuple1 + tuple2\n",
    "\n",
    "print(\"New Tuple (Concatenated):\", new_tuple)"
   ]
  },
  {
   "cell_type": "markdown",
   "id": "a472cde4",
   "metadata": {},
   "source": [
    "### SET EXCERCISES"
   ]
  },
  {
   "cell_type": "markdown",
   "id": "ebdc7216",
   "metadata": {},
   "source": [
    "1. Write a Python program to find the union of two sets."
   ]
  },
  {
   "cell_type": "code",
   "execution_count": 9,
   "id": "11a13560",
   "metadata": {},
   "outputs": [
    {
     "name": "stdout",
     "output_type": "stream",
     "text": [
      "{400, 'Ram', 'Shyam', 100, 'Amar', 200, 300}\n"
     ]
    }
   ],
   "source": [
    "set1 = {100,200,300,400}\n",
    "set2 = {'Ram','Shyam','Amar'}\n",
    "print(set1.union(set2))"
   ]
  },
  {
   "cell_type": "markdown",
   "id": "972b2a30",
   "metadata": {},
   "source": [
    "2. Write a Python program to find the intersection of two sets.\n"
   ]
  },
  {
   "cell_type": "code",
   "execution_count": 10,
   "id": "402625c2",
   "metadata": {},
   "outputs": [
    {
     "name": "stdout",
     "output_type": "stream",
     "text": [
      "{4}\n"
     ]
    }
   ],
   "source": [
    "set1 = {1,2,3,4,5}\n",
    "set2 = {4,6,8,10,11}\n",
    "\n",
    "print(set1.intersection(set2))"
   ]
  },
  {
   "cell_type": "markdown",
   "id": "a81d5921",
   "metadata": {},
   "source": [
    "3. Write a Python program to check if a set is a subset of another set.\n"
   ]
  },
  {
   "cell_type": "code",
   "execution_count": 13,
   "id": "8a52d4ae",
   "metadata": {},
   "outputs": [
    {
     "name": "stdout",
     "output_type": "stream",
     "text": [
      "set2 is not a subset of set1.\n"
     ]
    }
   ],
   "source": [
    "set1 = {1,2,3,4,5}\n",
    "set2 = {4,9}\n",
    "\n",
    "is_subset = set2.issubset(set1)\n",
    "\n",
    "if is_subset:\n",
    "    print(\"set2 is a subset of set1.\")\n",
    "else:\n",
    "    print(\"set2 is not a subset of set1.\")"
   ]
  },
  {
   "cell_type": "markdown",
   "id": "9a20a51d",
   "metadata": {},
   "source": [
    "4. Write a Python program to remove duplicate elements from a set.\n"
   ]
  },
  {
   "cell_type": "code",
   "execution_count": 14,
   "id": "bb4bb525",
   "metadata": {},
   "outputs": [
    {
     "name": "stdout",
     "output_type": "stream",
     "text": [
      "{1, 2, 3, 4, 5}\n"
     ]
    }
   ],
   "source": [
    "my_set = {1, 2, 2, 3, 4, 4, 5, 5}\n",
    "\n",
    "unique_set = set(my_set)\n",
    "print(unique_set)"
   ]
  },
  {
   "cell_type": "markdown",
   "id": "0aa0ec3c",
   "metadata": {},
   "source": [
    "5. Write a Python program to add an element to a set.\n"
   ]
  },
  {
   "cell_type": "code",
   "execution_count": 1,
   "id": "b62fefe4",
   "metadata": {},
   "outputs": [
    {
     "name": "stdout",
     "output_type": "stream",
     "text": [
      "set after adding element :  {1, 2, 3, 4, 5, 6}\n"
     ]
    }
   ],
   "source": [
    "my_set = {1, 2, 3, 4, 5}\n",
    "\n",
    "my_set.add(6)\n",
    "print(\"set after adding element : \",my_set)"
   ]
  },
  {
   "cell_type": "markdown",
   "id": "4cebff3e",
   "metadata": {},
   "source": [
    "6. Write a Python program to remove an element from a set.\n"
   ]
  },
  {
   "cell_type": "code",
   "execution_count": 2,
   "id": "60eb164c",
   "metadata": {},
   "outputs": [
    {
     "name": "stdout",
     "output_type": "stream",
     "text": [
      "set after remove element :  {1, 2, 4, 5}\n"
     ]
    }
   ],
   "source": [
    "set = {1,2,3,4,5}\n",
    "set.remove(3)\n",
    "\n",
    "print(\"set after remove element : \",set)"
   ]
  },
  {
   "cell_type": "markdown",
   "id": "56c1f687",
   "metadata": {},
   "source": [
    "7. Write a Python program to find the difference between two sets.\n"
   ]
  },
  {
   "cell_type": "code",
   "execution_count": 3,
   "id": "34139b9a",
   "metadata": {},
   "outputs": [
    {
     "name": "stdout",
     "output_type": "stream",
     "text": [
      "{1, 2}\n"
     ]
    }
   ],
   "source": [
    "set1 = {1, 2, 3, 4, 5}\n",
    "set2 = {3, 4, 5, 6, 7}\n",
    "\n",
    "difference_set = set1.difference(set2)\n",
    "print(difference_set)"
   ]
  },
  {
   "cell_type": "markdown",
   "id": "601ea82a",
   "metadata": {},
   "source": [
    "8. Write a Python program to check if two sets are disjoint.\n"
   ]
  },
  {
   "cell_type": "code",
   "execution_count": 4,
   "id": "80876b27",
   "metadata": {},
   "outputs": [
    {
     "name": "stdout",
     "output_type": "stream",
     "text": [
      "The sets are disjoint.\n"
     ]
    }
   ],
   "source": [
    "set1 = {1, 2, 3, 4, 5}\n",
    "set2 = {6, 7, 8, 9, 10}\n",
    "\n",
    "if set1.isdisjoint(set2):\n",
    "    print(\"The sets are disjoint.\")\n",
    "else:\n",
    "    print(\"The sets have some common elements.\")\n"
   ]
  },
  {
   "cell_type": "markdown",
   "id": "057b7f22",
   "metadata": {},
   "source": [
    "9. Write a Python program to find the symmetric difference between two sets.\n"
   ]
  },
  {
   "cell_type": "code",
   "execution_count": 5,
   "id": "13a3cd5a",
   "metadata": {},
   "outputs": [
    {
     "name": "stdout",
     "output_type": "stream",
     "text": [
      "Symmetric Difference between set1 and set2: {1, 2, 6, 7}\n"
     ]
    }
   ],
   "source": [
    "set1 = {1, 2, 3, 4, 5}\n",
    "set2 = {3, 4, 5, 6, 7}\n",
    "\n",
    "symmetric_diff_set = set1.symmetric_difference(set2)\n",
    "\n",
    "print(\"Symmetric Difference between set1 and set2:\", symmetric_diff_set)\n"
   ]
  },
  {
   "cell_type": "markdown",
   "id": "a928b42f",
   "metadata": {},
   "source": [
    "10. Write a Python program to check if a set is empty.\n"
   ]
  },
  {
   "cell_type": "code",
   "execution_count": 4,
   "id": "cf0a276f",
   "metadata": {},
   "outputs": [
    {
     "name": "stdout",
     "output_type": "stream",
     "text": [
      "The set is empty.\n"
     ]
    }
   ],
   "source": [
    "my_set = set()\n",
    "\n",
    "if len(my_set) == 0:\n",
    "    print(\"The set is empty.\")\n",
    "else:\n",
    "    print(\"The set is not empty.\")\n"
   ]
  },
  {
   "cell_type": "markdown",
   "id": "d6b8ba22",
   "metadata": {},
   "source": [
    "### DICTIONARY EXCERCISES "
   ]
  },
  {
   "cell_type": "markdown",
   "id": "9729dd7b",
   "metadata": {},
   "source": [
    "1. Write a Python program to iterate over a dictionary and print its keys and values.\n"
   ]
  },
  {
   "cell_type": "code",
   "execution_count": 5,
   "id": "9c75306c",
   "metadata": {},
   "outputs": [
    {
     "name": "stdout",
     "output_type": "stream",
     "text": [
      "Key: name, Value: Tabssum\n",
      "Key: year, Value: 2023\n",
      "Key: city, Value: Kolhapur\n"
     ]
    }
   ],
   "source": [
    "dict = {\"name\":\"Tabssum\", \"year\":2023, \"city\":\"Kolhapur\"}\n",
    "\n",
    "for key, value in dict.items():\n",
    "    print(f\"Key: {key}, Value: {value}\")"
   ]
  },
  {
   "cell_type": "markdown",
   "id": "45de71b4",
   "metadata": {},
   "source": [
    "2. Write a Python program to check if a key exists in a dictionary.\n"
   ]
  },
  {
   "cell_type": "code",
   "execution_count": 8,
   "id": "afe33bef",
   "metadata": {},
   "outputs": [
    {
     "name": "stdout",
     "output_type": "stream",
     "text": [
      "The key 'name' does not exist in the dictionary.\n"
     ]
    }
   ],
   "source": [
    "dict = {1:100, 2:200, 3:300, 4:400}\n",
    "key_to_check = \"name\"\n",
    "\n",
    "if dict.get(key_to_check):\n",
    "    print(f\"The key '{key_to_check}' exists in the dictionary.\")\n",
    "else:\n",
    "    print(f\"The key '{key_to_check}' does not exist in the dictionary.\")"
   ]
  },
  {
   "cell_type": "markdown",
   "id": "30ea0a66",
   "metadata": {},
   "source": [
    "3. Write a Python program to get the value associated with a key in a dictionary.\n"
   ]
  },
  {
   "cell_type": "code",
   "execution_count": 9,
   "id": "659b5157",
   "metadata": {},
   "outputs": [
    {
     "name": "stdout",
     "output_type": "stream",
     "text": [
      "Kolhapur\n"
     ]
    }
   ],
   "source": [
    "dict = {\"name\":\"Tabssum\", \"year\":2023, \"city\":\"Kolhapur\"}\n",
    "\n",
    "key_to_get = \"city\"\n",
    "value = dict.get(key_to_get)\n",
    "print(value)"
   ]
  },
  {
   "cell_type": "markdown",
   "id": "8b8d34b4",
   "metadata": {},
   "source": [
    "4. Write a Python program to remove a key from a dictionary.\n"
   ]
  },
  {
   "cell_type": "code",
   "execution_count": 14,
   "id": "bf7a90a9",
   "metadata": {},
   "outputs": [
    {
     "name": "stdout",
     "output_type": "stream",
     "text": [
      "{'name': 'Tabssum', 'city': 'Kolhapur'}\n"
     ]
    }
   ],
   "source": [
    "dict = {\"name\":\"Tabssum\", \"year\":2023, \"city\":\"Kolhapur\"}\n",
    "\n",
    "dict.pop(\"year\")\n",
    "print(dict)"
   ]
  },
  {
   "cell_type": "markdown",
   "id": "8692fc23",
   "metadata": {},
   "source": [
    "5. Write a Python program to sort a dictionary by its values.\n"
   ]
  },
  {
   "cell_type": "code",
   "execution_count": 15,
   "id": "98a15f66",
   "metadata": {},
   "outputs": [
    {
     "name": "stdout",
     "output_type": "stream",
     "text": [
      "[('Sid', 56), ('Lisa', 80), ('John', 90)]\n"
     ]
    }
   ],
   "source": [
    "dict = {\"John\":90, \"Lisa\":80, \"Sid\":56}\n",
    "sv = sorted(dict.items(), key = lambda x : x[1])\n",
    "print(sv)"
   ]
  },
  {
   "cell_type": "markdown",
   "id": "89cf62aa",
   "metadata": {},
   "source": [
    "6. Write a Python program to merge two dictionaries.\n"
   ]
  },
  {
   "cell_type": "code",
   "execution_count": 3,
   "id": "29a7df75",
   "metadata": {},
   "outputs": [
    {
     "name": "stdout",
     "output_type": "stream",
     "text": [
      "{'a': 1, 'b': 2, 'c': 3, 'd': 4}\n"
     ]
    }
   ],
   "source": [
    "dict1 = {\"a\": 1, \"b\": 2}\n",
    "dict2 = {\"c\": 3, \"d\": 4}\n",
    "\n",
    "dict1.update(dict2)\n",
    "print(dict1)"
   ]
  },
  {
   "cell_type": "markdown",
   "id": "c64f46e6",
   "metadata": {},
   "source": [
    "7. Write a Python program to count the frequency of each element in a dictionary.\n"
   ]
  },
  {
   "cell_type": "code",
   "execution_count": 4,
   "id": "90e819bd",
   "metadata": {},
   "outputs": [
    {
     "name": "stdout",
     "output_type": "stream",
     "text": [
      "apple: 3\n",
      "banana: 1\n",
      "cherry: 2\n",
      "date: 3\n"
     ]
    }
   ],
   "source": [
    "my_dict = {\"apple\": 3, \"banana\": 1, \"cherry\": 2, \"date\": 3, \"date\":3}\n",
    "frequency_dict = {}\n",
    "\n",
    "for key, value in my_dict.items():\n",
    "    if key in frequency_dict:\n",
    "        frequency_dict[key] += value\n",
    "    else:\n",
    "        frequency_dict[key] = value\n",
    "\n",
    "for key, value in frequency_dict.items():\n",
    "    print(f\"{key}: {value}\")"
   ]
  },
  {
   "cell_type": "code",
   "execution_count": 7,
   "id": "17a80d85",
   "metadata": {},
   "outputs": [
    {
     "data": {
      "text/plain": [
       "{1: 2, 2: 2, 3: 1, 5: 2, 7: 1}"
      ]
     },
     "execution_count": 7,
     "metadata": {},
     "output_type": "execute_result"
    }
   ],
   "source": [
    "# counting freq. of list using dict\n",
    "\n",
    "num1 = [1,1,2,3,2,5,7,5]\n",
    "dict1 = {}\n",
    "\n",
    "for num in num1:\n",
    "    if num in dict1:\n",
    "        dict1[num] = dict1[num]+1\n",
    "    else:\n",
    "        dict1[num] = 1\n",
    "        \n",
    "dict1"
   ]
  },
  {
   "cell_type": "markdown",
   "id": "930cc65b",
   "metadata": {},
   "source": [
    "8. Write a Python program to find the length of a dictionary.\n"
   ]
  },
  {
   "cell_type": "code",
   "execution_count": 8,
   "id": "2f53fc48",
   "metadata": {},
   "outputs": [
    {
     "name": "stdout",
     "output_type": "stream",
     "text": [
      "3\n"
     ]
    }
   ],
   "source": [
    "sample_dict = {\"product\":\"laptop\", \"price\":60000, \"quantity\":2}\n",
    "print(len(sample_dict))"
   ]
  },
  {
   "cell_type": "markdown",
   "id": "92a7fc82",
   "metadata": {},
   "source": [
    "9. Write a Python program to check if a dictionary is empty.\n"
   ]
  },
  {
   "cell_type": "code",
   "execution_count": 9,
   "id": "986acf4a",
   "metadata": {},
   "outputs": [
    {
     "name": "stdout",
     "output_type": "stream",
     "text": [
      "The dictionary is empty.\n"
     ]
    }
   ],
   "source": [
    "a = {}\n",
    "\n",
    "if not a:\n",
    "    print(\"The dictionary is empty.\")\n",
    "else:\n",
    "    print(\"The dictionary is not empty.\")\n"
   ]
  },
  {
   "cell_type": "markdown",
   "id": "908b43aa",
   "metadata": {},
   "source": [
    "10. Write a Python program to find the keys with the maximum and minimum values in a dictionary.\n"
   ]
  },
  {
   "cell_type": "code",
   "execution_count": 11,
   "id": "86c5dd26",
   "metadata": {},
   "outputs": [
    {
     "name": "stdout",
     "output_type": "stream",
     "text": [
      "History\n",
      "Maths\n"
     ]
    }
   ],
   "source": [
    "dict1 = {'Physics':80, 'Maths':99, 'History':75}\n",
    "min_key = []\n",
    "max_key = []\n",
    "\n",
    "print(min(dict1,key = dict1.get))\n",
    "print(max(dict1,key = dict1.get))"
   ]
  },
  {
   "cell_type": "markdown",
   "id": "d2db878f",
   "metadata": {},
   "source": [
    "### RANGE EXCERCISES "
   ]
  },
  {
   "cell_type": "markdown",
   "id": "79063df4",
   "metadata": {},
   "source": [
    "1. Write a Python program to iterate over a range of numbers and print them.\n"
   ]
  },
  {
   "cell_type": "code",
   "execution_count": 12,
   "id": "1ba2994d",
   "metadata": {},
   "outputs": [
    {
     "name": "stdout",
     "output_type": "stream",
     "text": [
      "1\n",
      "2\n",
      "3\n",
      "4\n",
      "5\n",
      "6\n",
      "7\n",
      "8\n",
      "9\n",
      "10\n"
     ]
    }
   ],
   "source": [
    "for i in range(1,11):\n",
    "    print(i)"
   ]
  },
  {
   "cell_type": "markdown",
   "id": "3d384871",
   "metadata": {},
   "source": [
    "2. Write a Python program to find the sum of all numbers in a range.\n"
   ]
  },
  {
   "cell_type": "code",
   "execution_count": 14,
   "id": "488e5971",
   "metadata": {},
   "outputs": [
    {
     "name": "stdout",
     "output_type": "stream",
     "text": [
      "enter start number : 1\n",
      "enter end number : 5\n",
      "15\n"
     ]
    }
   ],
   "source": [
    "start_num = int(input(\"enter start number : \"))\n",
    "end_num = int(input(\"enter end number : \"))\n",
    "\n",
    "total_sum = 0\n",
    "for num in range(start_num, end_num+1):\n",
    "    total_sum = total_sum+num\n",
    "print(total_sum)"
   ]
  },
  {
   "cell_type": "markdown",
   "id": "a04a819c",
   "metadata": {},
   "source": [
    "3. Write a Python program to print all even numbers in a given range.\n"
   ]
  },
  {
   "cell_type": "code",
   "execution_count": 15,
   "id": "4ea19510",
   "metadata": {},
   "outputs": [
    {
     "name": "stdout",
     "output_type": "stream",
     "text": [
      "2\n",
      "4\n",
      "6\n",
      "8\n",
      "10\n",
      "12\n",
      "14\n",
      "16\n",
      "18\n"
     ]
    }
   ],
   "source": [
    "for number in range(2,20):\n",
    "    if number % 2 == 0:\n",
    "        print(number)"
   ]
  },
  {
   "cell_type": "markdown",
   "id": "da4c21e1",
   "metadata": {},
   "source": [
    "4. Write a Python program to print all odd numbers in a given range.\n"
   ]
  },
  {
   "cell_type": "code",
   "execution_count": 19,
   "id": "fdec5134",
   "metadata": {},
   "outputs": [
    {
     "name": "stdout",
     "output_type": "stream",
     "text": [
      "1\n",
      "3\n",
      "5\n",
      "7\n",
      "9\n",
      "11\n",
      "13\n",
      "15\n",
      "17\n",
      "19\n"
     ]
    }
   ],
   "source": [
    "for num in range(1,20):\n",
    "    if num % 2 != 0:\n",
    "        print(num)"
   ]
  },
  {
   "cell_type": "markdown",
   "id": "fb6b6bc5",
   "metadata": {},
   "source": [
    "5. Write a Python program to find the average of all numbers in a range.\n"
   ]
  },
  {
   "cell_type": "code",
   "execution_count": 3,
   "id": "82151918",
   "metadata": {},
   "outputs": [
    {
     "name": "stdout",
     "output_type": "stream",
     "text": [
      "5.5\n"
     ]
    }
   ],
   "source": [
    "total_sum = 0\n",
    "count = 0\n",
    "\n",
    "for number in range(1,11):\n",
    "    total_sum += number\n",
    "    count += 1\n",
    "\n",
    "average = total_sum / count\n",
    "\n",
    "print(average)\n"
   ]
  },
  {
   "cell_type": "markdown",
   "id": "70bd208d",
   "metadata": {},
   "source": [
    "6. Write a Python program to check if a number is present in a given range.\n"
   ]
  },
  {
   "cell_type": "code",
   "execution_count": 4,
   "id": "24ba634c",
   "metadata": {},
   "outputs": [
    {
     "name": "stdout",
     "output_type": "stream",
     "text": [
      "5 is present in the range.\n"
     ]
    }
   ],
   "source": [
    "start = 1\n",
    "end = 11\n",
    "number_to_check = 5\n",
    "\n",
    "if start <= number_to_check < end:\n",
    "    print(f\"{number_to_check} is present in the range.\")\n",
    "else:\n",
    "    print(f\"{number_to_check} is not present in the range.\")\n"
   ]
  },
  {
   "cell_type": "markdown",
   "id": "eb80c07e",
   "metadata": {},
   "source": [
    "7. Write a Python program to reverse a range of numbers and print them.\n"
   ]
  },
  {
   "cell_type": "code",
   "execution_count": 5,
   "id": "166d32fa",
   "metadata": {},
   "outputs": [
    {
     "name": "stdout",
     "output_type": "stream",
     "text": [
      "10\n",
      "9\n",
      "8\n",
      "7\n",
      "6\n",
      "5\n",
      "4\n",
      "3\n",
      "2\n"
     ]
    }
   ],
   "source": [
    "for number in range(10, 1, -1):\n",
    "    print(number)\n"
   ]
  },
  {
   "cell_type": "markdown",
   "id": "ebba3d9b",
   "metadata": {},
   "source": [
    "8. Write a Python program to find the product of all numbers in a range.\n"
   ]
  },
  {
   "cell_type": "code",
   "execution_count": 9,
   "id": "f62280e1",
   "metadata": {},
   "outputs": [
    {
     "name": "stdout",
     "output_type": "stream",
     "text": [
      "24\n"
     ]
    }
   ],
   "source": [
    "product = 1\n",
    "for num in range(1,5):\n",
    "    product *= num\n",
    "    \n",
    "print(product)\n",
    "    "
   ]
  },
  {
   "cell_type": "markdown",
   "id": "8b16fc28",
   "metadata": {},
   "source": [
    "9. Write a Python program to print the squares of all numbers in a range.\n"
   ]
  },
  {
   "cell_type": "code",
   "execution_count": 12,
   "id": "20de373b",
   "metadata": {},
   "outputs": [
    {
     "name": "stdout",
     "output_type": "stream",
     "text": [
      "The square of 1 is 1\n",
      "The square of 2 is 4\n",
      "The square of 3 is 9\n",
      "The square of 4 is 16\n",
      "The square of 5 is 25\n"
     ]
    }
   ],
   "source": [
    "for number in range(1,6):\n",
    "    square = number ** 2\n",
    "    print(f\"The square of {number} is {square}\")\n"
   ]
  },
  {
   "cell_type": "markdown",
   "id": "3d690217",
   "metadata": {},
   "source": [
    "10. Write a Python program to print the cube of all numbers in a range.\n"
   ]
  },
  {
   "cell_type": "code",
   "execution_count": 13,
   "id": "7268d126",
   "metadata": {},
   "outputs": [
    {
     "name": "stdout",
     "output_type": "stream",
     "text": [
      "The cube of 1 is 1\n",
      "The cube of 2 is 8\n",
      "The cube of 3 is 27\n",
      "The cube of 4 is 64\n",
      "The cube of 5 is 125\n"
     ]
    }
   ],
   "source": [
    "for number in range(1,6):\n",
    "    cube = number ** 3\n",
    "    print(f\"The cube of {number} is {cube}\")\n"
   ]
  },
  {
   "cell_type": "markdown",
   "id": "f59c058b",
   "metadata": {},
   "source": [
    "###  IF ELSE LOOP EXERCISES"
   ]
  },
  {
   "cell_type": "markdown",
   "id": "652f8b69",
   "metadata": {},
   "source": [
    "1. Write a Python program to check if a number is positive, negative, or zero.\n"
   ]
  },
  {
   "cell_type": "code",
   "execution_count": 14,
   "id": "25555a04",
   "metadata": {},
   "outputs": [
    {
     "name": "stdout",
     "output_type": "stream",
     "text": [
      "Enter a number: 2\n",
      "The number is positive.\n"
     ]
    }
   ],
   "source": [
    "number = float(input(\"Enter a number: \"))\n",
    "\n",
    "if number > 0:\n",
    "    print(\"The number is positive.\")\n",
    "elif number < 0:\n",
    "    print(\"The number is negative.\")\n",
    "else:\n",
    "    print(\"The number is zero.\")\n"
   ]
  },
  {
   "cell_type": "markdown",
   "id": "61adc13c",
   "metadata": {},
   "source": [
    "2. Write a Python program to check if a number is even or odd.\n"
   ]
  },
  {
   "cell_type": "code",
   "execution_count": 15,
   "id": "d5e2a8f3",
   "metadata": {},
   "outputs": [
    {
     "name": "stdout",
     "output_type": "stream",
     "text": [
      "Enter a number: 7\n",
      "The number is odd.\n"
     ]
    }
   ],
   "source": [
    "number = int(input(\"Enter a number: \"))\n",
    "\n",
    "if number % 2 == 0:\n",
    "    print(\"The number is even.\")\n",
    "else:\n",
    "    print(\"The number is odd.\")\n"
   ]
  },
  {
   "cell_type": "markdown",
   "id": "563f462d",
   "metadata": {},
   "source": [
    "3. Write a Python program to check if a year is a leap year or not.\n"
   ]
  },
  {
   "cell_type": "code",
   "execution_count": 18,
   "id": "6b658ec8",
   "metadata": {},
   "outputs": [
    {
     "name": "stdout",
     "output_type": "stream",
     "text": [
      "1996 is a leap year.\n"
     ]
    }
   ],
   "source": [
    "year = 1996\n",
    "\n",
    "if (year % 4 == 0 and year % 100 != 0) or (year % 400 == 0):\n",
    "    print(f\"{year} is a leap year.\")\n",
    "else:\n",
    "    print(f\"{year} is not a leap year.\")\n"
   ]
  },
  {
   "cell_type": "markdown",
   "id": "664a3279",
   "metadata": {},
   "source": [
    "4. Write a Python program to find the maximum of three numbers using if-else.\n"
   ]
  },
  {
   "cell_type": "code",
   "execution_count": 6,
   "id": "0c9c1b29",
   "metadata": {},
   "outputs": [
    {
     "name": "stdout",
     "output_type": "stream",
     "text": [
      "The maximum of 130, 11, and 29 is: 130\n"
     ]
    }
   ],
   "source": [
    "num1 = 130\n",
    "num2 = 11\n",
    "num3 = 29\n",
    "\n",
    "maximum = num1\n",
    "\n",
    "if num2 > maximum:\n",
    "    maximum = num2\n",
    "elif num3 > maximum:\n",
    "    maximum = num3\n",
    "else:\n",
    "    maximum = num1\n",
    "\n",
    "print(f\"The maximum of {num1}, {num2}, and {num3} is: {maximum}\")"
   ]
  },
  {
   "cell_type": "markdown",
   "id": "2114ee69",
   "metadata": {},
   "source": [
    "5. Write a Python program to check if a number is prime.\n"
   ]
  },
  {
   "cell_type": "code",
   "execution_count": 8,
   "id": "4e0a177f",
   "metadata": {},
   "outputs": [
    {
     "name": "stdout",
     "output_type": "stream",
     "text": [
      "enter a number : 12\n",
      "12 is not prime number\n"
     ]
    }
   ],
   "source": [
    "num = int(input(\"enter a number : \"))\n",
    "if num == 1:\n",
    "    print(num, \"is not prime number\")\n",
    "if num>1:\n",
    "    for n in range(2,num):\n",
    "        if num % n == 0:\n",
    "            print(num, \"is not prime number\")\n",
    "            break\n",
    "    else:\n",
    "        print(num, \"is prime number\")"
   ]
  },
  {
   "cell_type": "markdown",
   "id": "3ea3580c",
   "metadata": {},
   "source": [
    "6. Write a Python program to check if a number is divisible by both 3 and 5.\n"
   ]
  },
  {
   "cell_type": "code",
   "execution_count": 10,
   "id": "33e3fa4d",
   "metadata": {},
   "outputs": [
    {
     "name": "stdout",
     "output_type": "stream",
     "text": [
      "Enter a number:12\n",
      "12 is not divisible by both 3 and 5.\n"
     ]
    }
   ],
   "source": [
    "num = int(input(\"Enter a number:\"))\n",
    "\n",
    "if num % 3 == 0 and num % 5 == 0:\n",
    "    print(f\"{num} is divisible by both 3 and 5.\")\n",
    "else:\n",
    "    print(f\"{num} is not divisible by both 3 and 5.\")\n"
   ]
  },
  {
   "cell_type": "markdown",
   "id": "823fbca1",
   "metadata": {},
   "source": [
    "7. Write a Python program to check if a character is a vowel or consonant.\n"
   ]
  },
  {
   "cell_type": "code",
   "execution_count": 14,
   "id": "85644b9f",
   "metadata": {},
   "outputs": [
    {
     "name": "stdout",
     "output_type": "stream",
     "text": [
      "enter the alphabet : T\n",
      "T is a consonant\n"
     ]
    }
   ],
   "source": [
    "ch = input(\"enter the alphabet : \")\n",
    "\n",
    "if ch in ('a','e','i','o','u','A','E','I','O','U'):\n",
    "    print(ch, \"is a vowel\")\n",
    "else:\n",
    "    print(ch, \"is a consonant\")"
   ]
  },
  {
   "cell_type": "markdown",
   "id": "3ae06f25",
   "metadata": {},
   "source": [
    "8. Write a Python program to check if a given string is a palindrome using if-else.\n"
   ]
  },
  {
   "cell_type": "code",
   "execution_count": 18,
   "id": "3b2994a8",
   "metadata": {},
   "outputs": [
    {
     "name": "stdout",
     "output_type": "stream",
     "text": [
      "enter a string : Naman\n",
      "Naman is a palidrome\n"
     ]
    }
   ],
   "source": [
    "string = input(\"enter a string : \")\n",
    "cleaned_string = string.replace(\" \", \"\").lower()\n",
    "\n",
    "\n",
    "if cleaned_string == cleaned_string[::-1]:\n",
    "    print(string, \"is a palidrome\")\n",
    "else:\n",
    "    print(string, \"is not palidrome\")"
   ]
  },
  {
   "cell_type": "markdown",
   "id": "24454287",
   "metadata": {},
   "source": [
    "9. Write a Python program to determine the largest among three numbers using nested if-else.\n"
   ]
  },
  {
   "cell_type": "code",
   "execution_count": 19,
   "id": "af7a06da",
   "metadata": {},
   "outputs": [
    {
     "name": "stdout",
     "output_type": "stream",
     "text": [
      "Enter a: 10\n",
      "Enter b: 50\n",
      "Enter c: 4\n",
      "50.0 is largest\n"
     ]
    }
   ],
   "source": [
    "a = float(input(\"Enter a: \"))\n",
    "b = float(input(\"Enter b: \"))\n",
    "c = float(input(\"Enter c: \"))\n",
    "\n",
    "if a>b:\n",
    "    if a>c:\n",
    "        print(a, \"is largest\")\n",
    "    else:\n",
    "        print(c, \"is largest\")\n",
    "else:\n",
    "    if b>c:\n",
    "        print(b, \"is largest\")\n",
    "    else:\n",
    "        print(c, \"is largest\")"
   ]
  },
  {
   "cell_type": "markdown",
   "id": "994475de",
   "metadata": {},
   "source": [
    "10. Write a Python program to check if a triangle is equilateral, isosceles, or scalene based on its side lengths using if-else.\n"
   ]
  },
  {
   "cell_type": "code",
   "execution_count": null,
   "id": "567b13e2",
   "metadata": {},
   "outputs": [],
   "source": [
    "x = float(input(\"Enter first side: \"))\n",
    "y = float(input(\"Enter second side: \"))\n",
    "z = float(input(\"Enter third side: \"))\n",
    "\n",
    "if x + y > z and x + z > y and y + z > x:\n",
    "    if x == y == z:\n",
    "        print(\"It's an equilateral triangle.\")\n",
    "    elif x == y or y == z or z == x:\n",
    "        print(\"It's an isosceles triangle.\")\n",
    "    else:\n",
    "        print(\"It's a scalene triangle.\")\n",
    "else:\n",
    "    print(\"It does not form a valid triangle.\")"
   ]
  },
  {
   "cell_type": "markdown",
   "id": "7e7acc5d",
   "metadata": {},
   "source": [
    "### FOR LOOP EXCERCISES"
   ]
  },
  {
   "cell_type": "markdown",
   "id": "28072366",
   "metadata": {},
   "source": [
    "1. Write a Python program to print the numbers from 1 to 10 using a for loop.\n"
   ]
  },
  {
   "cell_type": "code",
   "execution_count": 1,
   "id": "bbeec375",
   "metadata": {},
   "outputs": [
    {
     "name": "stdout",
     "output_type": "stream",
     "text": [
      "1\n",
      "2\n",
      "3\n",
      "4\n",
      "5\n",
      "6\n",
      "7\n",
      "8\n",
      "9\n",
      "10\n"
     ]
    }
   ],
   "source": [
    "for i in range(1, 11):\n",
    "    print(i)"
   ]
  },
  {
   "cell_type": "markdown",
   "id": "0d0efd6e",
   "metadata": {},
   "source": [
    "2. Write a Python program to calculate the sum of all numbers in a list using a for loop.\n"
   ]
  },
  {
   "cell_type": "code",
   "execution_count": 2,
   "id": "ef56884f",
   "metadata": {},
   "outputs": [
    {
     "name": "stdout",
     "output_type": "stream",
     "text": [
      "The sum of all numbers in the list is: 55\n"
     ]
    }
   ],
   "source": [
    "numbers = [1, 2, 3, 4, 5, 6, 7, 8, 9, 10]\n",
    "\n",
    "total_sum = 0\n",
    "for number in numbers:\n",
    "    total_sum += number\n",
    "print(\"The sum of all numbers in the list is:\", total_sum)\n"
   ]
  },
  {
   "cell_type": "markdown",
   "id": "94bcee74",
   "metadata": {},
   "source": [
    "3. Write a Python program to find the factorial of a number using a for loop.\n"
   ]
  },
  {
   "cell_type": "code",
   "execution_count": 6,
   "id": "1a4faefc",
   "metadata": {},
   "outputs": [
    {
     "name": "stdout",
     "output_type": "stream",
     "text": [
      "120\n"
     ]
    }
   ],
   "source": [
    "num = 5\n",
    "factorial = 1\n",
    "\n",
    "for i in range(1, num + 1):\n",
    "    factorial *= i\n",
    "print(factorial)\n"
   ]
  },
  {
   "cell_type": "markdown",
   "id": "b8846878",
   "metadata": {},
   "source": [
    "4. Write a Python program to print all the even numbers between 1 and 50 using a for loop.\n"
   ]
  },
  {
   "cell_type": "code",
   "execution_count": 7,
   "id": "02a9af0d",
   "metadata": {},
   "outputs": [
    {
     "name": "stdout",
     "output_type": "stream",
     "text": [
      "2\n",
      "4\n",
      "6\n",
      "8\n",
      "10\n",
      "12\n",
      "14\n",
      "16\n",
      "18\n",
      "20\n",
      "22\n",
      "24\n",
      "26\n",
      "28\n",
      "30\n",
      "32\n",
      "34\n",
      "36\n",
      "38\n",
      "40\n",
      "42\n",
      "44\n",
      "46\n",
      "48\n",
      "50\n"
     ]
    }
   ],
   "source": [
    "for number in range(1, 51):\n",
    "    if number % 2 == 0:\n",
    "        print(number)"
   ]
  },
  {
   "cell_type": "markdown",
   "id": "980b8379",
   "metadata": {},
   "source": [
    "5. Write a Python program to iterate over a string and print each character using a for loop.\n"
   ]
  },
  {
   "cell_type": "code",
   "execution_count": 9,
   "id": "e9348e30",
   "metadata": {},
   "outputs": [
    {
     "name": "stdout",
     "output_type": "stream",
     "text": [
      "H\n",
      "e\n",
      "l\n",
      "l\n",
      "o\n",
      " \n",
      "W\n",
      "o\n",
      "r\n",
      "l\n",
      "d\n",
      "!\n"
     ]
    }
   ],
   "source": [
    "text = \"Hello World!\"\n",
    "\n",
    "for char in text:\n",
    "    print(char)\n"
   ]
  },
  {
   "cell_type": "markdown",
   "id": "e6a341c7",
   "metadata": {},
   "source": [
    "6. Write a Python program to iterate over a list of tuples and print each element using a for loop.\n"
   ]
  },
  {
   "cell_type": "code",
   "execution_count": 10,
   "id": "658b53b1",
   "metadata": {},
   "outputs": [
    {
     "name": "stdout",
     "output_type": "stream",
     "text": [
      "1\n",
      "apple\n",
      "2\n",
      "banana\n",
      "3\n",
      "cherry\n"
     ]
    }
   ],
   "source": [
    "list_of_tuples = [(1, 'apple'), (2, 'banana'), (3, 'cherry')]\n",
    "\n",
    "for tpl in list_of_tuples:\n",
    "    for element in tpl:\n",
    "        print(element)"
   ]
  },
  {
   "cell_type": "markdown",
   "id": "2a15d16a",
   "metadata": {},
   "source": [
    "7. Write a Python program to find the largest element in a list using a for loop.\n"
   ]
  },
  {
   "cell_type": "code",
   "execution_count": 12,
   "id": "18f97fe6",
   "metadata": {},
   "outputs": [
    {
     "name": "stdout",
     "output_type": "stream",
     "text": [
      "90\n"
     ]
    }
   ],
   "source": [
    "num = [12, 45, 23, 67, 89, 34, 56, 78, 90]\n",
    "largest = num[0]\n",
    "\n",
    "for number in num:\n",
    "    if number > largest:\n",
    "        largest = number\n",
    "\n",
    "print(largest)\n"
   ]
  },
  {
   "cell_type": "markdown",
   "id": "8cf7f263",
   "metadata": {},
   "source": [
    "8. Write a Python program to check if all elements in a list are even using a for loop.\n"
   ]
  },
  {
   "cell_type": "code",
   "execution_count": 14,
   "id": "d2e7e2fe",
   "metadata": {},
   "outputs": [
    {
     "name": "stdout",
     "output_type": "stream",
     "text": [
      "Not all elements in the list are even.\n"
     ]
    }
   ],
   "source": [
    "numbers = [4, 10, 22, 36, 50, 9]\n",
    "\n",
    "all_even = True\n",
    "\n",
    "for number in numbers:\n",
    "    if number % 2 != 0:\n",
    "        all_even = False\n",
    "        break\n",
    "\n",
    "if all_even:\n",
    "    print(\"All elements in the list are even.\")\n",
    "else:\n",
    "    print(\"Not all elements in the list are even.\")\n"
   ]
  },
  {
   "cell_type": "markdown",
   "id": "bc2702c4",
   "metadata": {},
   "source": [
    "9. Write a Python program to find the common elements between two lists using a for loop.\n"
   ]
  },
  {
   "cell_type": "code",
   "execution_count": 22,
   "id": "9940f5a0",
   "metadata": {},
   "outputs": [
    {
     "name": "stdout",
     "output_type": "stream",
     "text": [
      "common elements are :  3\n",
      "common elements are :  4\n"
     ]
    }
   ],
   "source": [
    "list1 = [1,2,3,4]\n",
    "list2 = [3,4,5,6]\n",
    "\n",
    "for x in list1:\n",
    "    for y in list2:\n",
    "        if x == y:\n",
    "            print(\"common elements are : \",x)"
   ]
  },
  {
   "cell_type": "markdown",
   "id": "f50506d5",
   "metadata": {},
   "source": [
    "10. Write a Python program to calculate the sum of the digits of a number using a for loop.\n"
   ]
  },
  {
   "cell_type": "code",
   "execution_count": 25,
   "id": "dc43693d",
   "metadata": {},
   "outputs": [
    {
     "name": "stdout",
     "output_type": "stream",
     "text": [
      "Enter a number: 123\n",
      "sum of the digits of the number is: 6\n"
     ]
    }
   ],
   "source": [
    "i = int(input(\"Enter a number: \"))\n",
    "\n",
    "sum = 0\n",
    "\n",
    "while (i>0):\n",
    "    sum = sum + i % 10\n",
    "    i = i //10\n",
    "\n",
    "print(\"sum of the digits of the number is:\", sum)\n"
   ]
  },
  {
   "cell_type": "markdown",
   "id": "5d3de9e5",
   "metadata": {},
   "source": [
    "### WHILE LOOP EXCERCISES "
   ]
  },
  {
   "cell_type": "markdown",
   "id": "3989e6f7",
   "metadata": {},
   "source": [
    "1. Write a Python program to print the numbers from 1 to 10 using a while loop.\n"
   ]
  },
  {
   "cell_type": "code",
   "execution_count": 27,
   "id": "0e84bd3f",
   "metadata": {},
   "outputs": [
    {
     "name": "stdout",
     "output_type": "stream",
     "text": [
      "1\n",
      "2\n",
      "3\n",
      "4\n",
      "5\n",
      "6\n",
      "7\n",
      "8\n",
      "9\n",
      "10\n"
     ]
    }
   ],
   "source": [
    "num = 1\n",
    "\n",
    "while num <= 10:\n",
    "    print(num)\n",
    "    num += 1\n"
   ]
  },
  {
   "cell_type": "markdown",
   "id": "03559f65",
   "metadata": {},
   "source": [
    "2. Write a Python program to calculate the sum of all numbers from 1 to 100 using a while loop.\n"
   ]
  },
  {
   "cell_type": "code",
   "execution_count": 28,
   "id": "79fd3089",
   "metadata": {},
   "outputs": [
    {
     "name": "stdout",
     "output_type": "stream",
     "text": [
      "The sum of all numbers from 1 to 100 is: 5050\n"
     ]
    }
   ],
   "source": [
    "num = 1\n",
    "sum = 0\n",
    "while num <= 100:\n",
    "    sum += num\n",
    "    num += 1\n",
    "print(\"The sum of all numbers from 1 to 100 is:\", sum)\n"
   ]
  },
  {
   "cell_type": "markdown",
   "id": "dddbadc3",
   "metadata": {},
   "source": [
    "3. Write a Python program to find the factorial of a number using a while loop.\n"
   ]
  },
  {
   "cell_type": "code",
   "execution_count": 7,
   "id": "64197bc2",
   "metadata": {},
   "outputs": [
    {
     "name": "stdout",
     "output_type": "stream",
     "text": [
      "factorial number is :  24\n"
     ]
    }
   ],
   "source": [
    "num = 4\n",
    "factorial = 1\n",
    "\n",
    "if num < 0:\n",
    "    print(\"factorial is not define for negative numbers\")\n",
    "elif num == 0:\n",
    "    print(\"factorial for 0 is 1\")\n",
    "else:\n",
    "    while num > 0:\n",
    "        factorial = factorial*num\n",
    "        num = num-1\n",
    "    print(\"factorial number is : \",factorial)"
   ]
  },
  {
   "cell_type": "markdown",
   "id": "cf48194d",
   "metadata": {},
   "source": [
    "4. Write a Python program to print all the even numbers between 1 and 50 using a while loop."
   ]
  },
  {
   "cell_type": "code",
   "execution_count": 8,
   "id": "54e4534f",
   "metadata": {},
   "outputs": [
    {
     "name": "stdout",
     "output_type": "stream",
     "text": [
      "2\n",
      "4\n",
      "6\n",
      "8\n",
      "10\n",
      "12\n",
      "14\n",
      "16\n",
      "18\n",
      "20\n",
      "22\n",
      "24\n",
      "26\n",
      "28\n",
      "30\n",
      "32\n",
      "34\n",
      "36\n",
      "38\n",
      "40\n",
      "42\n",
      "44\n",
      "46\n",
      "48\n",
      "50\n"
     ]
    }
   ],
   "source": [
    "number = 2\n",
    "\n",
    "while number <= 50:\n",
    "    print(number)\n",
    "    number = number+2"
   ]
  },
  {
   "cell_type": "markdown",
   "id": "f53331de",
   "metadata": {},
   "source": [
    "5. Write a Python program to iterate over a string and print each character using a while loop."
   ]
  },
  {
   "cell_type": "code",
   "execution_count": 11,
   "id": "26f37d8a",
   "metadata": {},
   "outputs": [
    {
     "name": "stdout",
     "output_type": "stream",
     "text": [
      "h\n",
      "e\n",
      "l\n",
      "l\n",
      "o\n",
      " \n",
      "w\n",
      "o\n",
      "r\n",
      "l\n",
      "d\n"
     ]
    }
   ],
   "source": [
    "string = \"hello world\"\n",
    "n = len(string)\n",
    "i = 0\n",
    "while i<n:\n",
    "    print(string[i])\n",
    "    i+=1"
   ]
  },
  {
   "cell_type": "markdown",
   "id": "26a14b32",
   "metadata": {},
   "source": [
    "6. Write a Python program to iterate over a list of tuples and print each element using a while loop.\n"
   ]
  },
  {
   "cell_type": "code",
   "execution_count": 14,
   "id": "dbf96af8",
   "metadata": {},
   "outputs": [
    {
     "name": "stdout",
     "output_type": "stream",
     "text": [
      "1\n",
      "apple\n",
      "2\n",
      "banana\n",
      "3\n",
      "cherry\n"
     ]
    }
   ],
   "source": [
    "list_of_tuple = [(1, 'apple'), (2, 'banana'), (3, 'cherry')]\n",
    "\n",
    "n = len(list_of_tuple)\n",
    "index = 0\n",
    "\n",
    "while index < n:\n",
    "    current_tuple = list_of_tuple[index]\n",
    "    for element in current_tuple:\n",
    "        print(element)\n",
    "    index += 1\n"
   ]
  },
  {
   "cell_type": "markdown",
   "id": "58650962",
   "metadata": {},
   "source": [
    "7. Write a Python program to find the largest element in a list using a while loop.\n"
   ]
  },
  {
   "cell_type": "code",
   "execution_count": 5,
   "id": "0b470415",
   "metadata": {},
   "outputs": [
    {
     "name": "stdout",
     "output_type": "stream",
     "text": [
      "9\n"
     ]
    }
   ],
   "source": [
    "num_list = [2,6,9,4,1]\n",
    "\n",
    "if not num_list:\n",
    "    print(\"The list is empty.\")\n",
    "else:\n",
    "    largest = num_list[0]\n",
    "    index = 1\n",
    "\n",
    "    while index < len(num_list):\n",
    "        if num_list[index] > largest:\n",
    "            largest = num_list[index]\n",
    "        index += 1\n",
    "\n",
    "    print(largest)\n"
   ]
  },
  {
   "cell_type": "markdown",
   "id": "e4be33a0",
   "metadata": {},
   "source": [
    "8. Write a Python program to check if all elements in a list are even using a while loop.\n"
   ]
  },
  {
   "cell_type": "code",
   "execution_count": 13,
   "id": "da0cb9db",
   "metadata": {},
   "outputs": [
    {
     "name": "stdout",
     "output_type": "stream",
     "text": [
      "all elements are not even\n"
     ]
    }
   ],
   "source": [
    "num_list = [3,5,7,9,1,2,4,5,8,90]\n",
    "\n",
    "index = 0\n",
    "    \n",
    "while index < len(num_list):\n",
    "    if num_list[index] % 2 != 0:\n",
    "        all_even = False\n",
    "        break\n",
    "        index += 1\n",
    "if all_even:\n",
    "    print(\"all elements are even\")\n",
    "else:\n",
    "    print(\"all elements are not even\")"
   ]
  },
  {
   "cell_type": "markdown",
   "id": "ad5a7786",
   "metadata": {},
   "source": [
    "9. Write a Python program to find the common elements between two lists using a while loop.\n"
   ]
  },
  {
   "cell_type": "code",
   "execution_count": 3,
   "id": "33bcad63",
   "metadata": {
    "scrolled": true
   },
   "outputs": [
    {
     "name": "stdout",
     "output_type": "stream",
     "text": [
      "[4, 5]\n"
     ]
    }
   ],
   "source": [
    "list1 = [1,2,3,4,5]\n",
    "list2 = [4,5,6,7,8]\n",
    "common = []\n",
    "index1 = 0\n",
    "while index1 < len(list1):\n",
    "    index2 = 0\n",
    "    while index2 < len(list2):\n",
    "        if list1[index1] == list2[index2]:\n",
    "            common.append(list1[index1])\n",
    "        index2+=1\n",
    "    index1 +=1\n",
    "\n",
    "print(common)"
   ]
  },
  {
   "cell_type": "markdown",
   "id": "41c5137d",
   "metadata": {},
   "source": [
    "10. Write a Python program to calculate the sum of the digits of a number using a while loop.\n"
   ]
  },
  {
   "cell_type": "code",
   "execution_count": 4,
   "id": "f76a35a7",
   "metadata": {},
   "outputs": [
    {
     "name": "stdout",
     "output_type": "stream",
     "text": [
      "14\n"
     ]
    }
   ],
   "source": [
    "num = 2345\n",
    "sum_of_digits = 0\n",
    "while num > 0:\n",
    "    digit = num % 10\n",
    "    sum_of_digits = sum_of_digits + digit\n",
    "    num = num // 10\n",
    "    \n",
    "print(sum_of_digits)"
   ]
  },
  {
   "cell_type": "markdown",
   "id": "7a57b4f4",
   "metadata": {},
   "source": [
    "### BREAK STATEMENT EXCERCISES"
   ]
  },
  {
   "cell_type": "markdown",
   "id": "c4754886",
   "metadata": {},
   "source": [
    "1. Write a Python program to find the first occurrence of a number in a list using a for loop and break statement.\n"
   ]
  },
  {
   "cell_type": "code",
   "execution_count": 6,
   "id": "2f8975e4",
   "metadata": {},
   "outputs": [
    {
     "name": "stdout",
     "output_type": "stream",
     "text": [
      "0\n"
     ]
    }
   ],
   "source": [
    "numbers = [5, 10, 5, 20, 25, 30, 65]\n",
    "\n",
    "target = 5\n",
    "index = 0\n",
    "\n",
    "for i in range(len(numbers)):\n",
    "    if numbers[i] == target:\n",
    "        index = i\n",
    "        break\n",
    "\n",
    "print(index)"
   ]
  },
  {
   "cell_type": "markdown",
   "id": "380e419e",
   "metadata": {},
   "source": [
    "2. Write a Python program to search for a specific element in a list using a while loop and break statement.\n"
   ]
  },
  {
   "cell_type": "code",
   "execution_count": 10,
   "id": "6dcf574d",
   "metadata": {},
   "outputs": [
    {
     "name": "stdout",
     "output_type": "stream",
     "text": [
      "The element 20 found at index 1.\n"
     ]
    }
   ],
   "source": [
    "list = [10,20,30,40,50,60]\n",
    "target = 20\n",
    "index = 0\n",
    "\n",
    "while index < len(list):\n",
    "    if list[index] == target:\n",
    "        print(f\"The element {target} found at index {index}.\")\n",
    "        break\n",
    "    index+=1"
   ]
  },
  {
   "cell_type": "markdown",
   "id": "a9a11592",
   "metadata": {},
   "source": [
    "3. Write a Python program to find the prime numbers between 1 and 100 using a for loop and break statement.\n"
   ]
  },
  {
   "cell_type": "code",
   "execution_count": 11,
   "id": "4c943a1d",
   "metadata": {},
   "outputs": [
    {
     "name": "stdout",
     "output_type": "stream",
     "text": [
      "2 3 5 7 11 13 17 19 23 29 31 37 41 43 47 53 59 61 67 71 73 79 83 89 97 "
     ]
    }
   ],
   "source": [
    "for num in range(2, 101):\n",
    "    is_prime = True\n",
    "\n",
    "    for i in range(2, int(num ** 0.5) + 1):\n",
    "        if num % i == 0:\n",
    "            is_prime = False\n",
    "            break\n",
    "\n",
    "    if is_prime:\n",
    "        print(num, end=\" \")\n"
   ]
  },
  {
   "cell_type": "markdown",
   "id": "a53db37d",
   "metadata": {},
   "source": [
    "4. Write a Python program to check if a number is present in a list using a while loop and break statement.\n"
   ]
  },
  {
   "cell_type": "code",
   "execution_count": 14,
   "id": "e87d1956",
   "metadata": {},
   "outputs": [
    {
     "name": "stdout",
     "output_type": "stream",
     "text": [
      "number 200 is not present in the list\n"
     ]
    }
   ],
   "source": [
    "num = [10,20,30,40,50]\n",
    "target = 200\n",
    "found = False\n",
    "index = 0\n",
    "\n",
    "while index < len(num):\n",
    "    if num[index] == target:\n",
    "        found = True\n",
    "        break\n",
    "    index+=1\n",
    "    \n",
    "if found:\n",
    "    print(f\"number {target} is present in the list\")\n",
    "else:\n",
    "    print(f\"number {target} is not present in the list\")"
   ]
  },
  {
   "cell_type": "markdown",
   "id": "d5efdb97",
   "metadata": {},
   "source": [
    "5. Write a Python program to find the largest palindrome number in a given range using a for loop and break statement.\n"
   ]
  },
  {
   "cell_type": "code",
   "execution_count": 20,
   "id": "0a4b54fc",
   "metadata": {},
   "outputs": [
    {
     "name": "stdout",
     "output_type": "stream",
     "text": [
      "77\n"
     ]
    }
   ],
   "source": [
    "start = 1\n",
    "end = 78\n",
    "largest_palidrome = 0\n",
    "\n",
    "for num in range(end, start -1, -1):\n",
    "    num_str = str(num)\n",
    "    if num_str == num_str[::-1]:\n",
    "        largest_palidrome = num\n",
    "        break\n",
    "        \n",
    "print(largest_palidrome)"
   ]
  },
  {
   "cell_type": "markdown",
   "id": "f06e9cfb",
   "metadata": {},
   "source": [
    "6. Write a Python program to find the first negative number in a list using a while loop and break statement.\n"
   ]
  },
  {
   "cell_type": "code",
   "execution_count": 30,
   "id": "b09fe7fd",
   "metadata": {},
   "outputs": [
    {
     "name": "stdout",
     "output_type": "stream",
     "text": [
      "5\n"
     ]
    }
   ],
   "source": [
    "num = [3, 5, 6, 4, 8, -10]\n",
    "index = 0\n",
    "while index < len(num):\n",
    "    if num[index] < 0:\n",
    "        print(index)\n",
    "        break\n",
    "    index+=1\n",
    "else:\n",
    "    print(\"no negative number is found\")"
   ]
  },
  {
   "cell_type": "markdown",
   "id": "1aaebf59",
   "metadata": {},
   "source": [
    "7. Write a Python program to print the elements of a list until a specific condition is met using a for loop and break statement.\n"
   ]
  },
  {
   "cell_type": "code",
   "execution_count": 34,
   "id": "16c1b01f",
   "metadata": {},
   "outputs": [
    {
     "name": "stdout",
     "output_type": "stream",
     "text": [
      "condition 6 is found.\n"
     ]
    }
   ],
   "source": [
    "list = [1,2,3,4,5,6,7,8]\n",
    "\n",
    "condition = 6\n",
    "\n",
    "for element in list:\n",
    "    if element == condition:\n",
    "        print(f\"condition {condition} is found.\")\n",
    "        break\n",
    "else:\n",
    "    print(\"condition is not found\")"
   ]
  },
  {
   "cell_type": "markdown",
   "id": "f1c2a3d3",
   "metadata": {},
   "source": [
    "8. Write a Python program to search for a specific character in a string using a while loop and break statement.\n"
   ]
  },
  {
   "cell_type": "code",
   "execution_count": 41,
   "id": "ee2009fa",
   "metadata": {},
   "outputs": [
    {
     "name": "stdout",
     "output_type": "stream",
     "text": [
      "Character 'Hello' found at index 1.\n"
     ]
    }
   ],
   "source": [
    "string = (\"Hii\", \"Hello\", \"Namaste\")\n",
    "\n",
    "search = \"Hello\"\n",
    "index = 0\n",
    "\n",
    "while index < len(string):\n",
    "    if string[index] == search:\n",
    "        print(f\"Character '{search}' found at index {index}.\")\n",
    "    index+=1"
   ]
  },
  {
   "cell_type": "markdown",
   "id": "2c480878",
   "metadata": {},
   "source": [
    "9. Write a Python program to find the first occurrence of a vowel in a string using a for loop and break statement.\n"
   ]
  },
  {
   "cell_type": "code",
   "execution_count": 53,
   "id": "9bfd84c4",
   "metadata": {},
   "outputs": [
    {
     "name": "stdout",
     "output_type": "stream",
     "text": [
      "Enter a string: India\n",
      "The first vowel found in the string is: I\n"
     ]
    }
   ],
   "source": [
    "string = input(\"Enter a string: \")\n",
    "\n",
    "vowels = \"AEIOUaeiou\"\n",
    "\n",
    "for char in string:\n",
    "    if char in vowels:\n",
    "        print(f\"The first vowel found in the string is: {char}\")\n",
    "        break\n",
    "\n",
    "else:\n",
    "    print(\"No vowels found in the string.\")\n"
   ]
  },
  {
   "cell_type": "markdown",
   "id": "2becf510",
   "metadata": {},
   "source": [
    "10. Write a Python program to find the index of the first occurrence of a substring in a string using a while loop and break statement.\n"
   ]
  },
  {
   "cell_type": "code",
   "execution_count": 54,
   "id": "84132d8d",
   "metadata": {},
   "outputs": [
    {
     "name": "stdout",
     "output_type": "stream",
     "text": [
      "Enter a string: python is a easy language\n",
      "Enter the substring to search for: is\n",
      "The first occurrence of 'is' starts at index 7.\n"
     ]
    }
   ],
   "source": [
    "string = input(\"Enter a string: \")\n",
    "substring = input(\"Enter the substring to search for: \")\n",
    "\n",
    "index = 0\n",
    "\n",
    "while index < len(string):\n",
    "    if string[index:index + len(substring)] == substring:\n",
    "        print(f\"The first occurrence of '{substring}' starts at index {index}.\")\n",
    "        break\n",
    "    index += 1\n",
    "else:\n",
    "    print(f\"'{substring}' not found in the string.\")\n"
   ]
  },
  {
   "cell_type": "markdown",
   "id": "26eeb18b",
   "metadata": {},
   "source": [
    "### CONTINUE STATMENT EXCERCISES"
   ]
  },
  {
   "cell_type": "markdown",
   "id": "9a043c0c",
   "metadata": {},
   "source": [
    "1. Write a Python program to print all the even numbers between 1 and 20 except for the number 10 using a for loop and continue statement.\n"
   ]
  },
  {
   "cell_type": "code",
   "execution_count": 1,
   "id": "574f06c4",
   "metadata": {},
   "outputs": [
    {
     "name": "stdout",
     "output_type": "stream",
     "text": [
      "2\n",
      "4\n",
      "6\n",
      "8\n",
      "12\n",
      "14\n",
      "16\n",
      "18\n",
      "20\n"
     ]
    }
   ],
   "source": [
    "for num in range(1,21):\n",
    "    if num == 10:\n",
    "        continue\n",
    "    if num % 2 == 0:\n",
    "        print(num)"
   ]
  },
  {
   "cell_type": "markdown",
   "id": "85d15407",
   "metadata": {},
   "source": [
    "2. Write a Python program to print the elements of a list skipping the negative numbers using a while loop and continue statement.\n"
   ]
  },
  {
   "cell_type": "code",
   "execution_count": 2,
   "id": "75f46fa0",
   "metadata": {},
   "outputs": [
    {
     "name": "stdout",
     "output_type": "stream",
     "text": [
      "3\n",
      "1\n",
      "3\n",
      "6\n"
     ]
    }
   ],
   "source": [
    "my_list = [3,-7,1,3,6,-4]\n",
    "index = 0\n",
    "\n",
    "while index < len(my_list):\n",
    "    if my_list[index] < 0:\n",
    "        index+=1\n",
    "        continue\n",
    "    print(my_list[index])\n",
    "    index+=1"
   ]
  },
  {
   "cell_type": "markdown",
   "id": "e8a3327c",
   "metadata": {},
   "source": [
    "3. Write a Python program to print the first 10 multiples of 3 except for the number 9 using a for loop and continue statement.\n"
   ]
  },
  {
   "cell_type": "code",
   "execution_count": 4,
   "id": "3f02a586",
   "metadata": {
    "scrolled": true
   },
   "outputs": [
    {
     "name": "stdout",
     "output_type": "stream",
     "text": [
      "3\n",
      "6\n",
      "12\n",
      "15\n",
      "18\n",
      "21\n",
      "24\n",
      "27\n",
      "30\n"
     ]
    }
   ],
   "source": [
    "count = 0\n",
    "\n",
    "for num in range(1, 31):\n",
    "    if num % 3 == 0 and num != 9:\n",
    "        print(num)\n",
    "        count += 1\n",
    "\n",
    "    if count == 10:\n",
    "        continue\n"
   ]
  },
  {
   "cell_type": "code",
   "execution_count": 6,
   "id": "d88aac11",
   "metadata": {},
   "outputs": [
    {
     "name": "stdout",
     "output_type": "stream",
     "text": [
      "3\n",
      "6\n",
      "12\n",
      "15\n",
      "18\n",
      "21\n",
      "24\n",
      "27\n",
      "30\n"
     ]
    }
   ],
   "source": [
    "count = 0\n",
    "\n",
    "for num in range(1, 31):\n",
    "    if num % 3 == 0 and num != 9:\n",
    "        print(num)\n",
    "        count += 1\n",
    "\n",
    "    if count == 10:\n",
    "        break\n"
   ]
  },
  {
   "cell_type": "markdown",
   "id": "0643dad5",
   "metadata": {},
   "source": [
    "4. Write a Python program to iterate over a string and print only the consonants using a for loop and continue statement.\n"
   ]
  },
  {
   "cell_type": "code",
   "execution_count": 9,
   "id": "d429d1b2",
   "metadata": {},
   "outputs": [
    {
     "name": "stdout",
     "output_type": "stream",
     "text": [
      "H\n",
      "l\n",
      "l\n",
      " \n",
      "W\n",
      "r\n",
      "l\n",
      "d\n",
      "!\n"
     ]
    }
   ],
   "source": [
    "string = \"Hello World!\"\n",
    "\n",
    "for char in string:\n",
    "    if char in \"aeiouAEIOU\":\n",
    "        continue\n",
    "    print(char)"
   ]
  },
  {
   "cell_type": "markdown",
   "id": "a9bb0933",
   "metadata": {},
   "source": [
    "5. Write a Python program to print the elements of a list skipping the even numbers using a while loop and continue statement.\n"
   ]
  },
  {
   "cell_type": "code",
   "execution_count": 15,
   "id": "c20c8f7c",
   "metadata": {},
   "outputs": [
    {
     "name": "stdout",
     "output_type": "stream",
     "text": [
      "3\n",
      "5\n",
      "7\n",
      "9\n"
     ]
    }
   ],
   "source": [
    "my_list = [2, 3, 4, 5, 6, 7, 8, 9]\n",
    "index = 0\n",
    "\n",
    "while index < len(my_list):\n",
    "    if my_list[index] % 2 == 0:\n",
    "        index += 1\n",
    "        continue\n",
    "    print(my_list[index])\n",
    "    index += 1\n"
   ]
  },
  {
   "cell_type": "markdown",
   "id": "9d058ac5",
   "metadata": {},
   "source": [
    "6. Write a Python program to find the sum of all numbers between 1 and 100, excluding the multiples of 5 using a for loop and continue statement.\n"
   ]
  },
  {
   "cell_type": "code",
   "execution_count": 19,
   "id": "58b76182",
   "metadata": {},
   "outputs": [
    {
     "name": "stdout",
     "output_type": "stream",
     "text": [
      "The sum of numbers between 1 to 100 (excluding multiples of 5) is:  4000\n"
     ]
    }
   ],
   "source": [
    "sum = 0\n",
    "\n",
    "for num in range(1,101):\n",
    "    if num % 5 == 0:\n",
    "        continue\n",
    "    sum+=num\n",
    "    \n",
    "print(\"The sum of numbers between 1 to 100 (excluding multiples of 5) is: \", sum)"
   ]
  },
  {
   "cell_type": "markdown",
   "id": "e6d120f9",
   "metadata": {},
   "source": [
    "7. Write a Python program to print the uppercase letters in a string using a while loop and continue statement.\n"
   ]
  },
  {
   "cell_type": "code",
   "execution_count": 5,
   "id": "8da21eab",
   "metadata": {},
   "outputs": [
    {
     "name": "stdout",
     "output_type": "stream",
     "text": [
      "H\n",
      "W\n",
      "R\n"
     ]
    }
   ],
   "source": [
    "string = \"Hello WoRld!\"\n",
    "index = 0\n",
    "\n",
    "while index < len(string):\n",
    "    char = string[index]\n",
    "    if not char.isupper():\n",
    "        index += 1\n",
    "        continue\n",
    "    print(char)\n",
    "    index += 1\n"
   ]
  },
  {
   "cell_type": "markdown",
   "id": "101a37a3",
   "metadata": {},
   "source": [
    "8. Write a Python program to print the elements of a list skipping the elements divisible by 3 using a for loop and continue statement.\n"
   ]
  },
  {
   "cell_type": "code",
   "execution_count": 1,
   "id": "f57208f5",
   "metadata": {},
   "outputs": [
    {
     "name": "stdout",
     "output_type": "stream",
     "text": [
      "1\n",
      "2\n",
      "4\n",
      "5\n",
      "7\n",
      "8\n",
      "10\n"
     ]
    }
   ],
   "source": [
    "list = [1,2,3,4,5,6,7,8,9,10]\n",
    "for element in list:\n",
    "    if element % 3 == 0:\n",
    "        continue\n",
    "    else:\n",
    "        print(element)"
   ]
  },
  {
   "cell_type": "markdown",
   "id": "8cb0ff98",
   "metadata": {},
   "source": [
    "9. Write a Python program to iterate over a list of tuples and print only the tuples with a specific condition using a while loop and continue statement."
   ]
  },
  {
   "cell_type": "code",
   "execution_count": 8,
   "id": "93624087",
   "metadata": {},
   "outputs": [],
   "source": [
    "list_of_tuples = [(1, 2), (3, 4), (5, 6), (7, 8), (9, 10)]\n",
    "\n",
    "index = 0\n",
    "\n",
    "while index < len(list_of_tuples):\n",
    "    current_tuple = list_of_tuples[index]\n",
    "    \n",
    "    if sum(current_tuple) % 2 != 0:\n",
    "        index+=1\n",
    "        continue\n",
    "        \n",
    "    print(current_tuple)\n",
    "    index += 1\n"
   ]
  },
  {
   "cell_type": "markdown",
   "id": "759cc5c5",
   "metadata": {},
   "source": [
    "10. Write a Python program to print the numbers from 1 to 50, skipping the multiples of 7 using a for loop and continue statement."
   ]
  },
  {
   "cell_type": "code",
   "execution_count": 6,
   "id": "dbf21761",
   "metadata": {},
   "outputs": [
    {
     "name": "stdout",
     "output_type": "stream",
     "text": [
      "1\n",
      "2\n",
      "3\n",
      "4\n",
      "5\n",
      "6\n",
      "8\n",
      "9\n",
      "10\n",
      "11\n",
      "12\n",
      "13\n",
      "15\n",
      "16\n",
      "17\n",
      "18\n",
      "19\n",
      "20\n",
      "22\n",
      "23\n",
      "24\n",
      "25\n",
      "26\n",
      "27\n",
      "29\n",
      "30\n",
      "31\n",
      "32\n",
      "33\n",
      "34\n",
      "36\n",
      "37\n",
      "38\n",
      "39\n",
      "40\n",
      "41\n",
      "43\n",
      "44\n",
      "45\n",
      "46\n",
      "47\n",
      "48\n",
      "50\n"
     ]
    }
   ],
   "source": [
    "for number in range(1, 51):\n",
    "    if number % 7 == 0:\n",
    "        continue\n",
    "    else:\n",
    "        print(number)\n"
   ]
  },
  {
   "cell_type": "code",
   "execution_count": null,
   "id": "bc5188ed",
   "metadata": {},
   "outputs": [],
   "source": []
  }
 ],
 "metadata": {
  "kernelspec": {
   "display_name": "Python 3 (ipykernel)",
   "language": "python",
   "name": "python3"
  },
  "language_info": {
   "codemirror_mode": {
    "name": "ipython",
    "version": 3
   },
   "file_extension": ".py",
   "mimetype": "text/x-python",
   "name": "python",
   "nbconvert_exporter": "python",
   "pygments_lexer": "ipython3",
   "version": "3.10.9"
  }
 },
 "nbformat": 4,
 "nbformat_minor": 5
}
